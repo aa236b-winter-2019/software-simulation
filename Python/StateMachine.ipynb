{
 "cells": [
  {
   "cell_type": "code",
   "execution_count": 17,
   "metadata": {},
   "outputs": [],
   "source": [
    "class PhysicalSat:\n",
    "    def __init__(self):\n",
    "        self.angular_velocity = [0,0,0]\n",
    "        self.battery_voltage = 10\n",
    "        \n",
    "    def getBatteryVoltage(self):\n",
    "        return self.battery_voltage\n",
    "    \n",
    "    def getAngularVelocity(self):\n",
    "        return self.angular_velocity"
   ]
  },
  {
   "cell_type": "code",
   "execution_count": 2,
   "metadata": {},
   "outputs": [],
   "source": [
    "class State:\n",
    "    def run(self):\n",
    "        assert 0, \"run not implemented\"\n",
    "    def next(self, input):\n",
    "        assert 0, \"next not implemented\"\n",
    "\n",
    "class StateMachine:\n",
    "    def __init__(self, initialState):\n",
    "        self.currentState = initialState\n",
    "        self.currentState.run()\n",
    "    # Template method:\n",
    "    def runAll(self, inputs):\n",
    "        for i in inputs:\n",
    "            print(i)\n",
    "            self.currentState = self.currentState.next(i)\n",
    "            self.currentState.run()"
   ]
  },
  {
   "cell_type": "code",
   "execution_count": 10,
   "metadata": {},
   "outputs": [],
   "source": [
    "class Hold(State):\n",
    "    def run(self):\n",
    "        print(\"Hold: Initial Boot and hold\")\n",
    "\n",
    "    def next(self, input):\n",
    "        return PandaSat.deploy_antenna\n",
    "\n",
    "class DeployAntenna(State):\n",
    "    def run(self):\n",
    "        print(\"Deploying Antenna\")\n",
    "\n",
    "    def next(self, input):\n",
    "        return PandaSat.tumble_check\n",
    "    \n",
    "class TumbleCheck(State):\n",
    "    def run(self):\n",
    "        print('Checking the tumbling rate')\n",
    "        \n",
    "    def next(self, input):\n",
    "        if battery_voltage < tumble_volt_threshold_value:\n",
    "            return \n",
    "        \n",
    "class Sleep(State):\n",
    "    def run(self):\n",
    "        print('Sleep Mode')\n",
    "        \n",
    "    def next(self, input):\n",
    "        return PandaSat.battery_voltage_check\n",
    "    \n",
    "class BatteryVoltageCheckBeacon(State):\n",
    "    def run(self):\n",
    "        print('Checking battery voltage before sending beacon')\n",
    "        \n",
    "    def next(self):\n",
    "        return PandaSat.tumble_check\n",
    "\n",
    "class PandaSat(StateMachine):\n",
    "    def __init__(self):\n",
    "        # Initial state\n",
    "        StateMachine.__init__(self, PandaSat.hold)\n",
    "\n",
    "# Static variable initialization:\n",
    "PandaSat.hold = Hold()\n",
    "PandaSat.deploy_antenna = DeployAntenna()\n",
    "PandaSat.tumble_check = TumbleCheck()\n",
    "PandaSat.sleep = Sleep()\n",
    "PandaSat.battery_voltage_check_beacon = BatteryVoltageCheckBeacon()\n",
    "\n"
   ]
  },
  {
   "cell_type": "code",
   "execution_count": 16,
   "metadata": {},
   "outputs": [
    {
     "name": "stdout",
     "output_type": "stream",
     "text": [
      "Hold: Initial Boot and hold\n",
      "None\n",
      "Deploying Antenna\n"
     ]
    }
   ],
   "source": [
    "hardware = PhysicalSat()\n",
    "\n",
    "ps = PandaSat()\n",
    "ps.runAll((None,))"
   ]
  },
  {
   "cell_type": "code",
   "execution_count": null,
   "metadata": {},
   "outputs": [],
   "source": []
  }
 ],
 "metadata": {
  "kernelspec": {
   "display_name": "Python 3",
   "language": "python",
   "name": "python3"
  },
  "language_info": {
   "codemirror_mode": {
    "name": "ipython",
    "version": 3
   },
   "file_extension": ".py",
   "mimetype": "text/x-python",
   "name": "python",
   "nbconvert_exporter": "python",
   "pygments_lexer": "ipython3",
   "version": "3.6.4"
  }
 },
 "nbformat": 4,
 "nbformat_minor": 2
}
